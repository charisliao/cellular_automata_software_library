{
 "cells": [
  {
   "cell_type": "code",
   "execution_count": 1,
   "id": "06637779",
   "metadata": {},
   "outputs": [],
   "source": [
    "import numpy as np\n",
    "import matplotlib\n",
    "import matplotlib.pyplot as plt"
   ]
  },
  {
   "cell_type": "code",
   "execution_count": 2,
   "id": "d07bc1f6",
   "metadata": {},
   "outputs": [],
   "source": [
    "def visualize_grid(filename):\n",
    "    cmap_reversed = matplotlib.cm.get_cmap('RdYlGn_r')\n",
    "    dfile = open('Data/'+filename, 'r')\n",
    "\n",
    "    # Read the second line \n",
    "    line = dfile.readline()\n",
    "    line = dfile.readline()\n",
    "    gridrow = int(line.split()[2])\n",
    "    gridcol = int(line.split()[4])\n",
    "\n",
    "    # Read the eighth line\n",
    "    line = dfile.readline()\n",
    "    num_states = int(line.split()[3])\n",
    "    line = dfile.readline()\n",
    "    line = dfile.readline()\n",
    "    line = dfile.readline()\n",
    "    line = dfile.readline()\n",
    "    line = dfile.readline()\n",
    "    steps = int(line.split()[3])\n",
    "    \n",
    "    gridarr = np.zeros((gridrow, gridcol))\n",
    "    \n",
    "    line = dfile.readline()\n",
    "\n",
    "    for i in range(steps):\n",
    "        title = dfile.readline()\n",
    "        for j in range(gridrow):\n",
    "            line = dfile.readline()\n",
    "            for k in range(gridcol):\n",
    "                gridarr[j][k] = int(line.split()[k])\n",
    "        plt.pcolor(gridarr, vmin = 0, vmax = num_states, cmap = cmap_reversed, label = gridarr)\n",
    "        plt.axis('image')\n",
    "        plt.title(f'Step: {i+1}')\n",
    "        # plt.colorbar()\n",
    "        plt.show()\n",
    "        line = dfile.readline() \n",
    "        line = dfile.readline() \n",
    "        line = dfile.readline() "
   ]
  },
  {
   "cell_type": "code",
   "execution_count": 4,
   "id": "b6c858fd",
   "metadata": {},
   "outputs": [
    {
     "ename": "IndexError",
     "evalue": "list index out of range",
     "output_type": "error",
     "traceback": [
      "\u001b[0;31m---------------------------------------------------------------------------\u001b[0m",
      "\u001b[0;31mIndexError\u001b[0m                                Traceback (most recent call last)",
      "Input \u001b[0;32mIn [4]\u001b[0m, in \u001b[0;36m<cell line: 1>\u001b[0;34m()\u001b[0m\n\u001b[0;32m----> 1\u001b[0m \u001b[43mvisualize_grid\u001b[49m\u001b[43m(\u001b[49m\u001b[38;5;124;43m'\u001b[39;49m\u001b[38;5;124;43mtest.txt\u001b[39;49m\u001b[38;5;124;43m'\u001b[39;49m\u001b[43m)\u001b[49m\n",
      "Input \u001b[0;32mIn [2]\u001b[0m, in \u001b[0;36mvisualize_grid\u001b[0;34m(filename)\u001b[0m\n\u001b[1;32m     28\u001b[0m     line \u001b[38;5;241m=\u001b[39m dfile\u001b[38;5;241m.\u001b[39mreadline()\n\u001b[1;32m     29\u001b[0m     \u001b[38;5;28;01mfor\u001b[39;00m k \u001b[38;5;129;01min\u001b[39;00m \u001b[38;5;28mrange\u001b[39m(gridcol):\n\u001b[0;32m---> 30\u001b[0m         gridarr[j][k] \u001b[38;5;241m=\u001b[39m \u001b[38;5;28mint\u001b[39m(\u001b[43mline\u001b[49m\u001b[38;5;241;43m.\u001b[39;49m\u001b[43msplit\u001b[49m\u001b[43m(\u001b[49m\u001b[43m)\u001b[49m\u001b[43m[\u001b[49m\u001b[43mk\u001b[49m\u001b[43m]\u001b[49m)\n\u001b[1;32m     31\u001b[0m plt\u001b[38;5;241m.\u001b[39mpcolor(gridarr, vmin \u001b[38;5;241m=\u001b[39m \u001b[38;5;241m0\u001b[39m, vmax \u001b[38;5;241m=\u001b[39m num_states, cmap \u001b[38;5;241m=\u001b[39m cmap_reversed, label \u001b[38;5;241m=\u001b[39m gridarr)\n\u001b[1;32m     32\u001b[0m plt\u001b[38;5;241m.\u001b[39maxis(\u001b[38;5;124m'\u001b[39m\u001b[38;5;124mimage\u001b[39m\u001b[38;5;124m'\u001b[39m)\n",
      "\u001b[0;31mIndexError\u001b[0m: list index out of range"
     ]
    }
   ],
   "source": [
    "visualize_grid('test.txt')"
   ]
  },
  {
   "cell_type": "code",
   "execution_count": null,
   "id": "b40aba6a",
   "metadata": {},
   "outputs": [],
   "source": []
  }
 ],
 "metadata": {
  "kernelspec": {
   "display_name": "Python 3 (ipykernel)",
   "language": "python",
   "name": "python3"
  },
  "language_info": {
   "codemirror_mode": {
    "name": "ipython",
    "version": 3
   },
   "file_extension": ".py",
   "mimetype": "text/x-python",
   "name": "python",
   "nbconvert_exporter": "python",
   "pygments_lexer": "ipython3",
   "version": "3.9.12"
  }
 },
 "nbformat": 4,
 "nbformat_minor": 5
}
